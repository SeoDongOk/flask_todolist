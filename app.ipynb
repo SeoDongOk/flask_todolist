{
 "cells": [
  {
   "cell_type": "code",
   "execution_count": null,
   "metadata": {},
   "outputs": [],
   "source": [
    "## flask 설치\n",
    "# %pip install flask"
   ]
  },
  {
   "cell_type": "code",
   "execution_count": null,
   "metadata": {},
   "outputs": [],
   "source": [
    "from flask import Flask, render_template, request, redirect, url_for\n",
    "import threading\n",
    "\n",
    "\n",
    "app = Flask(__name__, template_folder='templates')\n",
    "\n",
    "todos = [{\"task\": \"일찍자기\", \"done\": False}]\n",
    "\n",
    "@app.route(\"/\")\n",
    "def index():\n",
    "  return render_template(\"index.html\", todos=todos)\n",
    "\n",
    "@app.route(\"/add\", methods=[\"POST\"])\n",
    "def add():\n",
    "   todo = request.form[\"todo\"]\n",
    "   todos.append({\"task\": todo, \"done\": False})\n",
    "   return redirect(url_for(\"index\"))\n",
    "\n",
    "@app.route(\"/edit/<int:index>\", methods=[\"GET\",\"POST\"])\n",
    "def edit(index):\n",
    "   todo = todos[index]\n",
    "   if request.method == \"POST\":\n",
    "      todo['task'] = request.form[\"todo\"]\n",
    "      return redirect(url_for(\"index\"))\n",
    "   else:\n",
    "      return render_template(\"edit.html\", todo=todo, index=index)\n",
    "   \n",
    "@app.route(\"/check/<int:index>\")\n",
    "def check(index):\n",
    "   todos[index]['done'] = not todos[index]['done']\n",
    "   return redirect(url_for(\"index\"))\n",
    "\n",
    "@app.route(\"/delete/<int:index>\")\n",
    "def delete(index):\n",
    "   del todos[index]\n",
    "   return redirect(url_for(\"index\"))\n",
    "\n",
    "if __name__ == \"__main__\":\n",
    "    app.run(threaded=True)\n",
    "\n",
    "\n",
    "\n",
    "thread = threading.Thread(target=run_app)\n",
    "thread.start()"
   ]
  },
  {
   "cell_type": "code",
   "execution_count": null,
   "metadata": {},
   "outputs": [],
   "source": []
  }
 ],
 "metadata": {
  "kernelspec": {
   "display_name": "week4",
   "language": "python",
   "name": "python3"
  },
  "language_info": {
   "codemirror_mode": {
    "name": "ipython",
    "version": 3
   },
   "file_extension": ".py",
   "mimetype": "text/x-python",
   "name": "python",
   "nbconvert_exporter": "python",
   "pygments_lexer": "ipython3",
   "version": "3.11.9"
  }
 },
 "nbformat": 4,
 "nbformat_minor": 2
}
